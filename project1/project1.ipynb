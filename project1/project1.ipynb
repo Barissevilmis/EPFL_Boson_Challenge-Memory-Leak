{
 "cells": [
  {
   "cell_type": "code",
   "execution_count": 1,
   "metadata": {},
   "outputs": [],
   "source": [
    "# Useful starting lines\n",
    "%matplotlib inline\n",
    "import numpy as np\n",
    "import matplotlib.pyplot as plt\n",
    "%load_ext autoreload\n",
    "%autoreload 2"
   ]
  },
  {
   "cell_type": "markdown",
   "metadata": {},
   "source": [
    "## Load the training data into feature matrix, class labels, and event ids:"
   ]
  },
  {
   "cell_type": "code",
   "execution_count": 92,
   "metadata": {},
   "outputs": [],
   "source": [
    "from proj1_helpers import *\n",
    "#Modify DATA_PATH if needed\n",
    "DATA_TRAIN_PATH = '../../data_project1/train.csv'\n",
    "y, tX, ids = load_csv_data(DATA_TRAIN_PATH)"
   ]
  },
  {
   "cell_type": "code",
   "execution_count": 3,
   "metadata": {},
   "outputs": [],
   "source": [
    "import csv\n",
    "\n",
    "def load_csv_data(data_path, sub_sample=False):\n",
    "    \"\"\"Loads data and returns y (class labels), tX (features) and ids (event ids)\"\"\"\n",
    "    y = np.genfromtxt(data_path, delimiter=\",\", skip_header=1, dtype=str, usecols=1)\n",
    "    x = np.genfromtxt(data_path, delimiter=\",\", skip_header=1)\n",
    "    ids = x[:, 0].astype(np.int)\n",
    "    input_data = x[:, 2:]\n",
    "\n",
    "    # convert class labels from strings to binary (-1,1)\n",
    "    yb = np.ones(len(y))\n",
    "    yb[np.where(y=='b')] = -1\n",
    "    \n",
    "    # sub-sample\n",
    "    if sub_sample:\n",
    "        yb = yb[::50]\n",
    "        input_data = input_data[::50]\n",
    "        ids = ids[::50]\n",
    "\n",
    "    return yb, input_data, ids\n",
    "\n",
    "\n",
    "def predict_labels(weights, data):\n",
    "    \"\"\"Generates class predictions given weights, and a test data matrix\"\"\"\n",
    "    y_pred = np.dot(data, weights)\n",
    "    y_pred[np.where(y_pred <= 0)] = -1\n",
    "    y_pred[np.where(y_pred > 0)] = 1\n",
    "    \n",
    "    return y_pred\n",
    "\n",
    "\n",
    "def create_csv_submission(ids, y_pred, name):\n",
    "    \"\"\"\n",
    "    Creates an output file in csv format for submission to kaggle\n",
    "    Arguments: ids (event ids associated with each prediction)\n",
    "               y_pred (predicted class labels)\n",
    "               name (string name of .csv output file to be created)\n",
    "    \"\"\"\n",
    "    with open(name, 'w') as csvfile:\n",
    "        fieldnames = ['Id', 'Prediction']\n",
    "        writer = csv.DictWriter(csvfile, delimiter=\",\", fieldnames=fieldnames)\n",
    "        writer.writeheader()\n",
    "        for r1, r2 in zip(ids, y_pred):\n",
    "            writer.writerow({'Id':int(r1),'Prediction':int(r2)})"
   ]
  },
  {
   "cell_type": "code",
   "execution_count": 93,
   "metadata": {},
   "outputs": [
    {
     "name": "stdout",
     "output_type": "stream",
     "text": [
      "Training examples:  [[ 138.47    51.655   97.827 ...    1.24    -2.475  113.497]\n",
      " [ 160.937   68.768  103.235 ... -999.    -999.      46.226]\n",
      " [-999.     162.172  125.953 ... -999.    -999.      44.251]\n",
      " ...\n",
      " [ 105.457   60.526   75.839 ... -999.    -999.      41.992]\n",
      " [  94.951   19.362   68.812 ... -999.    -999.       0.   ]\n",
      " [-999.      72.756   70.831 ... -999.    -999.       0.   ]]  & shape: \n",
      "Targets:  [ 1. -1. -1. ...  1. -1. -1.]\n",
      "Ids:  [100000 100001 100002 ... 349997 349998 349999]\n",
      "Shapes of tX, y & Ids:  (250000, 30) (250000,) (250000,)\n"
     ]
    }
   ],
   "source": [
    "print(\"Training examples: \", tX, \" & shape: \")\n",
    "print(\"Targets: \", y)\n",
    "print(\"Ids: \",ids)\n",
    "print(\"Shapes of tX, y & Ids: \", tX.shape, y.shape, ids.shape)"
   ]
  },
  {
   "cell_type": "markdown",
   "metadata": {},
   "source": [
    "## Do your thing crazy machine learning thing here :) ..."
   ]
  },
  {
   "cell_type": "code",
   "execution_count": 105,
   "metadata": {},
   "outputs": [],
   "source": [
    "'''GRAD AND LOSS FUNCTIONS'''\n",
    "def compute_loss(y, tx, w, typ):\n",
    "    '''typ = <LOSS_TYPE(WITH CAPITAL LETTERS)>'''\n",
    "    loss = 0\n",
    "    N = y.shape[0]\n",
    "    if typ == \"MSE\":\n",
    "        loss = (1/(2*N))*np.sum(np.square(y - (tx@w)))        \n",
    "    elif typ == \"MAE\":\n",
    "        loss = (1/(2*N))*np.sum(np.abs(y - (tx@w)))\n",
    "    return loss\n",
    "\n",
    "def compute_gradient(y, tx, w):\n",
    "    '''GRADIENT COMPUTATION'''\n",
    "    N = y.shape[0]\n",
    "    e = y - tx@w\n",
    "    grad = (-1/N) * (tx.T@e)\n",
    "    return grad\n",
    "\n",
    "def compute_stoch_gradient(y, tx, w):\n",
    "    '''STOCHASTIC GRADIENT DESCENT GRADIENT COMPUTATION''' \n",
    "    N = y.shape[0]\n",
    "    e = y - tx@w\n",
    "    grad = (-1/N)*(tx.T@e)\n",
    "    return grad\n",
    "\n",
    "def compute_rdg_loss(y, tx, w, lambda_):\n",
    "    '''typ = <LOSS_TYPE>(CAPITAL LETTERS)'''\n",
    "    loss = 0\n",
    "    N = y.shape[0]\n",
    "    loss = (1/(2*N))*np.sum(np.square(y - (tx@w))) + (lambda_*np.square(np.linalg.norm(w)))\n",
    "    return loss"
   ]
  },
  {
   "cell_type": "code",
   "execution_count": 106,
   "metadata": {},
   "outputs": [],
   "source": [
    "def least_squares_GD(y, tx, initial_w, max_iters, gamma):\n",
    "    '''BATCH GRADIENT DESCENT'''\n",
    "    w = initial_w\n",
    "    for n_iter in range(max_iters):\n",
    "        loss = compute_loss(y, tx, w, \"MSE\")\n",
    "        grad = compute_gradient(y, tx, w)\n",
    "        w = w - (gamma * grad)\n",
    "        print(\"Gradient Descent({bi}/{ti}): loss={l}\".format(\n",
    "              bi=n_iter, ti=max_iters - 1, l=loss))\n",
    "\n",
    "    return (w, loss)"
   ]
  },
  {
   "cell_type": "code",
   "execution_count": 81,
   "metadata": {},
   "outputs": [],
   "source": [
    "def least_squares_SGD(y, tx, initial_w, max_iters, gamma):\n",
    "    '''STOCHASTIC GRADIENT DESCENT'''\n",
    "    w = initial_w   \n",
    "    for n_iter in range(max_iters):       \n",
    "        for minibatch_y, minibatch_tx in batch_iter(y, tx, 1):\n",
    "            loss = compute_loss(minibatch_y, minibatch_tx, w, \"MSE\")\n",
    "            grad = compute_gradient(minibatch_y, minibatch_tx, w)\n",
    "            w = w - gamma * grad\n",
    "            print(\"Stochastic Gradient Descent({bi}/{ti}): loss={l}\".format(\n",
    "              bi=n_iter, ti=max_iters - 1, l=loss))\n",
    "    return (w, loss)"
   ]
  },
  {
   "cell_type": "code",
   "execution_count": 82,
   "metadata": {},
   "outputs": [],
   "source": [
    "def least_squares(y, tx):\n",
    "    '''COMPUTE W_STAR: WEIGHT FOR NORMAL EQUATIONS BY LINEAR EQUATION SOLVER'''\n",
    "    w_star = np.linalg.solve(tx.T@tx, tx.T@y)\n",
    "    loss = compute_loss(y, tx, w_star, \"MSE\")\n",
    "    return (w_star,loss)"
   ]
  },
  {
   "cell_type": "code",
   "execution_count": 90,
   "metadata": {},
   "outputs": [],
   "source": [
    "def ridge_regression(y, tx, lambda_):\n",
    "    '''RIDGE REGRESSION WITH LAMBDA PARAMETER AS REGULARIZATION PARAMETER'''\n",
    "    N = y.shape[0]\n",
    "    w_ridge = np.linalg.solve((tx.T@tx)+(lambda_/(2*N))*np.identity(tx.shape[1]), tx.T@y)\n",
    "    loss = compute_rdg_loss(y, tx, w_ridge, lambda_)\n",
    "    return (w_ridge, loss)\n",
    "    "
   ]
  },
  {
   "cell_type": "markdown",
   "metadata": {},
   "source": [
    "## Generate predictions and save ouput in csv format for submission:"
   ]
  },
  {
   "cell_type": "code",
   "execution_count": 84,
   "metadata": {},
   "outputs": [],
   "source": [
    "DATA_TEST_PATH = '../../data_project1/test.csv' # TODO: download train data and supply path here \n",
    "_, tX_test, ids_test = load_csv_data(DATA_TEST_PATH)"
   ]
  },
  {
   "cell_type": "code",
   "execution_count": 109,
   "metadata": {},
   "outputs": [
    {
     "name": "stdout",
     "output_type": "stream",
     "text": [
      "(30,)\n",
      "[0.19352693 0.79480195 0.13893299 0.94992315 0.32626878 0.49288204\n",
      " 0.12936937 0.32943999 0.45843513 0.09506298 0.70563614 0.92421028\n",
      " 0.96458108 0.01914608 0.78396918 0.60027538 0.59935932 0.25401976\n",
      " 0.21683832 0.1440739  0.69877051 0.70647494 0.52055042 0.21462699\n",
      " 0.14373649 0.08212894 0.32471348 0.79386165 0.37014067 0.87883989]\n"
     ]
    }
   ],
   "source": [
    "ww = np.random.rand(tX.shape[1])\n",
    "init_w = np.array(ww, dtype=np.float64)\n",
    "#init_w = np.zeros(tX.shape[1])\n",
    "print(init_w.shape)\n",
    "print(init_w)"
   ]
  },
  {
   "cell_type": "code",
   "execution_count": 115,
   "metadata": {},
   "outputs": [
    {
     "name": "stdout",
     "output_type": "stream",
     "text": [
      "Gradient Descent(0/49): loss=4228441.049657132\n",
      "Gradient Descent(1/49): loss=3767077.3550681523\n",
      "Gradient Descent(2/49): loss=3357085.5635330854\n",
      "Gradient Descent(3/49): loss=2992742.715555667\n",
      "Gradient Descent(4/49): loss=2668963.411960341\n",
      "Gradient Descent(5/49): loss=2381228.7871259945\n",
      "Gradient Descent(6/49): loss=2125523.394885249\n",
      "Gradient Descent(7/49): loss=1898279.1255867383\n",
      "Gradient Descent(8/49): loss=1696325.3710207094\n",
      "Gradient Descent(9/49): loss=1516844.7411710236\n",
      "Gradient Descent(10/49): loss=1357333.7142979004\n",
      "Gradient Descent(11/49): loss=1215567.6707586765\n",
      "Gradient Descent(12/49): loss=1089569.8222006124\n",
      "Gradient Descent(13/49): loss=977583.6021657792\n",
      "Gradient Descent(14/49): loss=878048.132492845\n",
      "Gradient Descent(15/49): loss=789576.4228597357\n",
      "Gradient Descent(16/49): loss=710935.9989843414\n",
      "Gradient Descent(17/49): loss=641031.6889210489\n",
      "Gradient Descent(18/49): loss=578890.3270326275\n",
      "Gradient Descent(19/49): loss=523647.1620007391\n",
      "Gradient Descent(20/49): loss=474533.77903839736\n",
      "Gradient Descent(21/49): loss=430867.3676162001\n",
      "Gradient Descent(22/49): loss=392041.18480674125\n",
      "Gradient Descent(23/49): loss=357516.08105055365\n",
      "Gradient Descent(24/49): loss=326812.96998557984\n",
      "Gradient Descent(25/49): loss=299506.13716772443\n",
      "Gradient Descent(26/49): loss=275217.2942266673\n",
      "Gradient Descent(27/49): loss=253610.29541247303\n",
      "Gradient Descent(28/49): loss=234386.44274001435\n",
      "Gradient Descent(29/49): loss=217280.3141590614\n",
      "Gradient Descent(30/49): loss=202056.0564828892\n",
      "Gradient Descent(31/49): loss=188504.09129944583\n",
      "Gradient Descent(32/49): loss=176438.18785717513\n",
      "Gradient Descent(33/49): loss=165692.86204305175\n",
      "Gradient Descent(34/49): loss=156121.06512485092\n",
      "Gradient Descent(35/49): loss=147592.12997676234\n",
      "Gradient Descent(36/49): loss=139989.94610367305\n",
      "Gradient Descent(37/49): loss=133211.3379750342\n",
      "Gradient Descent(38/49): loss=127164.62401881111\n",
      "Gradient Descent(39/49): loss=121768.33614926282\n",
      "Gradient Descent(40/49): loss=116950.08194443959\n",
      "Gradient Descent(41/49): loss=112645.53358165096\n",
      "Gradient Descent(42/49): loss=108797.52940955959\n",
      "Gradient Descent(43/49): loss=105355.27560873085\n",
      "Gradient Descent(44/49): loss=102273.63679038426\n",
      "Gradient Descent(45/49): loss=99512.5056252755\n",
      "Gradient Descent(46/49): loss=97036.24269843749\n",
      "Gradient Descent(47/49): loss=94813.17876633859\n",
      "Gradient Descent(48/49): loss=92815.17246457904\n",
      "Gradient Descent(49/49): loss=91017.21728871542\n",
      "0.611216\n"
     ]
    }
   ],
   "source": [
    "'''PREDICTIONS FOR MODELS'''\n",
    "'''BATCH GD'''\n",
    "max_iter = 50\n",
    "alpha = 1e-8\n",
    "(w1,loss1) = least_squares_GD(y, tX, init_w, max_iter, alpha)\n",
    "gd_tr_pred = predict_labels(w1, tX)\n",
    "print((gd_tr_pred == y).mean())\n",
    "gd_pred = predict_labels(w1, tX_test)"
   ]
  },
  {
   "cell_type": "code",
   "execution_count": 113,
   "metadata": {},
   "outputs": [
    {
     "name": "stdout",
     "output_type": "stream",
     "text": [
      "Stochastic Gradient Descent(0/19): loss=313698.5831485503\n",
      "Stochastic Gradient Descent(1/19): loss=6918077.674736491\n",
      "Stochastic Gradient Descent(2/19): loss=3953450.3446974587\n",
      "Stochastic Gradient Descent(3/19): loss=4277772.153869159\n",
      "Stochastic Gradient Descent(4/19): loss=680707.5062925897\n",
      "Stochastic Gradient Descent(5/19): loss=4337867.362948491\n",
      "Stochastic Gradient Descent(6/19): loss=3069539.6393173714\n",
      "Stochastic Gradient Descent(7/19): loss=2003933.233403761\n",
      "Stochastic Gradient Descent(8/19): loss=2420879.501192539\n",
      "Stochastic Gradient Descent(9/19): loss=1317472.4517188526\n",
      "Stochastic Gradient Descent(10/19): loss=1384685.3311155138\n",
      "Stochastic Gradient Descent(11/19): loss=324235.092339525\n",
      "Stochastic Gradient Descent(12/19): loss=1066304.0564657191\n",
      "Stochastic Gradient Descent(13/19): loss=119276.48144564028\n",
      "Stochastic Gradient Descent(14/19): loss=166088.90309807693\n",
      "Stochastic Gradient Descent(15/19): loss=141134.5506555643\n",
      "Stochastic Gradient Descent(16/19): loss=10138.057176928298\n",
      "Stochastic Gradient Descent(17/19): loss=875039.7681437806\n",
      "Stochastic Gradient Descent(18/19): loss=920082.4403299324\n",
      "Stochastic Gradient Descent(19/19): loss=699226.3211172817\n",
      "0.62706\n"
     ]
    }
   ],
   "source": [
    "'''SGD'''\n",
    "max_iter = 20\n",
    "alpha = 1e-8\n",
    "(w2,loss2) = least_squares_SGD(y, tX, init_w, max_iter, alpha)\n",
    "sgd_tr_pred = predict_labels(w2, tX)\n",
    "print((sgd_tr_pred == y).mean())\n",
    "sgd_pred = predict_labels(w2, tX_test)"
   ]
  },
  {
   "cell_type": "code",
   "execution_count": 65,
   "metadata": {},
   "outputs": [
    {
     "name": "stdout",
     "output_type": "stream",
     "text": [
      "0.744328\n"
     ]
    }
   ],
   "source": [
    "'''LS WITH NORMAL EQ'''\n",
    "(w3,loss3) = least_squares(y, tX)\n",
    "ls_tr_pred = predict_labels(w3, tX)\n",
    "print((ls_tr_pred == y).mean())\n",
    "ls_pred = predict_labels(w3, tX_test)"
   ]
  },
  {
   "cell_type": "code",
   "execution_count": 75,
   "metadata": {},
   "outputs": [
    {
     "name": "stdout",
     "output_type": "stream",
     "text": [
      "250000\n",
      "250000\n",
      "250000\n",
      "250000\n",
      "250000\n",
      "250000\n",
      "250000\n",
      "250000\n",
      "7\n",
      "250000\n",
      "0.744328\n"
     ]
    }
   ],
   "source": [
    "'''RIDGE REGRESSION'''\n",
    "'''CHOOSE BEST LAMBDA'''\n",
    "lambda_ = np.array([1, 0.1, 0.5, 0.001, 0.005, 0.0001, 0.0005, 0.00001])\n",
    "min_loss = 1000000\n",
    "ind = 0\n",
    "for i in range(lambda_.shape[0]):\n",
    "    (w4,loss4) = ridge_regression(y, tX, lambda_[i])\n",
    "    if min_loss > loss4:\n",
    "        min_loss = loss4\n",
    "        ind = i\n",
    "(w4,loss4) = ridge_regression(y, tX, lambda_[ind])       \n",
    "rd_tr_pred = predict_labels(w4, tX)\n",
    "print((rd_tr_pred == y).mean())\n",
    "rd_pred = predict_labels(w4, tX_test)"
   ]
  },
  {
   "cell_type": "code",
   "execution_count": null,
   "metadata": {},
   "outputs": [],
   "source": []
  },
  {
   "cell_type": "code",
   "execution_count": null,
   "metadata": {},
   "outputs": [],
   "source": [
    "OUTPUT_PATH = '../../data_project1/results.csv' # TODO: fill in desired name of output file for submission\n",
    "y_pred = predict_labels(weights, tX_test)\n",
    "create_csv_submission(ids_test, y_pred, OUTPUT_PATH)"
   ]
  },
  {
   "cell_type": "code",
   "execution_count": null,
   "metadata": {},
   "outputs": [],
   "source": []
  }
 ],
 "metadata": {
  "anaconda-cloud": {},
  "kernelspec": {
   "display_name": "Python 3",
   "language": "python",
   "name": "python3"
  },
  "language_info": {
   "codemirror_mode": {
    "name": "ipython",
    "version": 3
   },
   "file_extension": ".py",
   "mimetype": "text/x-python",
   "name": "python",
   "nbconvert_exporter": "python",
   "pygments_lexer": "ipython3",
   "version": "3.7.3"
  }
 },
 "nbformat": 4,
 "nbformat_minor": 1
}
